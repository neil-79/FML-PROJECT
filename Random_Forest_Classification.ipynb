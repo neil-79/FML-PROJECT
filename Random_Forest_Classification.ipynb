{
 "cells": [
  {
   "cell_type": "code",
   "execution_count": null,
   "id": "818a14c9",
   "metadata": {
    "ExecuteTime": {
     "end_time": "2021-04-11T07:29:23.352311Z",
     "start_time": "2021-04-11T07:29:22.703518Z"
    }
   },
   "outputs": [],
   "source": [
    "import pandas as pd\n",
    "import numpy as np\n",
    "from matplotlib import pyplot as plt\n",
    "from sklearn.model_selection import train_test_split, GridSearchCV, RandomizedSearchCV\n",
    "from sklearn.feature_selection import SelectKBest, mutual_info_classif, f_classif\n",
    "from sklearn.metrics import classification_report, confusion_matrix\n",
    "from sklearn.model_selection import cross_val_score\n",
    "from sklearn.ensemble import RandomForestClassifier, ExtraTreesClassifier"
   ]
  },
  {
   "cell_type": "markdown",
   "id": "9f152219",
   "metadata": {},
   "source": [
    "### Loading the modified dataset"
   ]
  },
  {
   "cell_type": "code",
   "execution_count": null,
   "id": "9a532c4f",
   "metadata": {
    "ExecuteTime": {
     "end_time": "2021-04-11T07:29:29.158666Z",
     "start_time": "2021-04-11T07:29:27.420517Z"
    }
   },
   "outputs": [],
   "source": [
    "df = pd.read_csv('dataset/data_merged.csv')\n",
    "#list(df.columns)\n",
    "#del df['mode']\n",
    "#del df['key_6_yr']\n",
    "#del df['popularity_yr']\n",
    "#del df['popularity_ar']"
   ]
  },
  {
   "cell_type": "code",
   "execution_count": null,
   "id": "a542e9b1",
   "metadata": {
    "ExecuteTime": {
     "end_time": "2021-04-11T07:30:48.915406Z",
     "start_time": "2021-04-11T07:30:48.874225Z"
    }
   },
   "outputs": [],
   "source": [
    "df.head()"
   ]
  },
  {
   "cell_type": "code",
   "execution_count": null,
   "id": "d68b3f23",
   "metadata": {
    "ExecuteTime": {
     "end_time": "2021-04-11T07:30:57.628792Z",
     "start_time": "2021-04-11T07:30:57.234557Z"
    }
   },
   "outputs": [],
   "source": [
    "# Separating columns containing features and output. Also, changing values in the output\n",
    "# to labels 1 (popular) and 0 (not popular) using threshold arrived at from Billboard charts. \n",
    "X = df[df.columns.difference(['popularity'])]\n",
    "y = pd.cut(x=df[\"popularity\"], bins=[-1,42,100], labels=[0,1])\n",
    "\n",
    "# Splitting data in to test and train sets\n",
    "X_train, X_test, y_train, y_test = train_test_split(X, y, test_size=0.2, stratify=y, random_state=42)"
   ]
  },
  {
   "cell_type": "markdown",
   "id": "2648eb28",
   "metadata": {},
   "source": [
    "### Trial Random Forest"
   ]
  },
  {
   "cell_type": "code",
   "execution_count": null,
   "id": "81a4fcb9",
   "metadata": {},
   "outputs": [],
   "source": [
    "# Initializing and training the Random Forest Classifier with default hyperparameters. \n",
    "rnd_clf=RandomForestClassifier(n_jobs=-1) # n_jobs=-1 uses all cores of the CPU\n",
    "rnd_clf.fit(X_train, y_train)\n",
    "\n",
    "# Prediction on test data.\n",
    "y_pred_rf=rnd_clf.predict(X_test)\n",
    "\n",
    "print('\\033[1mClassification Report')\n",
    "print('\\033[0m')\n",
    "print(classification_report(y_test, y_pred_rf))\n",
    "\n",
    "print('\\033[1mConfusion Matrix')\n",
    "print('\\033[0m')\n",
    "print(confusion_matrix(y_test, y_pred_rf))"
   ]
  },
  {
   "cell_type": "markdown",
   "id": "de13e1d3",
   "metadata": {},
   "source": [
    "### Extra Trees Classifier\n",
    "We can also try to use the ExtraTreesClassifier which randomizes the number of features used to split each node. We see that the performance is slightly worse than using just a Random Forest. "
   ]
  },
  {
   "cell_type": "code",
   "execution_count": null,
   "id": "1dc2551f",
   "metadata": {},
   "outputs": [],
   "source": [
    "ext_clf=ExtraTreesClassifier(n_jobs=-1)\n",
    "ext_clf.fit(X_train, y_train)\n",
    "y_pred_ext=ext_clf.predict(X_test)\n",
    "\n",
    "print('\\033[1mClassification Report')\n",
    "print('\\033[0m')\n",
    "print(classification_report(y_test, y_pred_ext))\n",
    "\n",
    "print('\\033[1mConfusion Matrix')\n",
    "print('\\033[0m')\n",
    "print(confusion_matrix(y_test, y_pred_ext))"
   ]
  },
  {
   "cell_type": "markdown",
   "id": "042ccddf",
   "metadata": {},
   "source": [
    "### Randomized Grid Search\n",
    "Next step is to perform randomized grid search to find optimal hyperparameters. "
   ]
  },
  {
   "cell_type": "code",
   "execution_count": null,
   "id": "ab096747",
   "metadata": {},
   "outputs": [],
   "source": [
    "# Initializing a set of hyperparameters. Randomized Grid Search will then iterate through random combinations of these\n",
    "# to find optimal parameters.\n",
    "\n",
    "n_estimators = [int(x) for x in np.linspace(start = 200, stop = 1000, num = 5)] # Number of Decisions Trees in the forest\n",
    "max_features = ['auto', 'sqrt']                                                 # Max features used to split at each node\n",
    "max_depth = np.linspace(20,100,5).tolist()                                      # Max depth of each tree\n",
    "max_depth.append(None) \n",
    "bootstrap = [True, False]\n",
    "min_samples_split = [2, 5, 10]                                                  # Minimum samples required to split at a node\n",
    "min_samples_leaf = [1, 2, 4]                                                    # Minimum samples required for a leaf node"
   ]
  },
  {
   "cell_type": "code",
   "execution_count": null,
   "id": "4eaa04da",
   "metadata": {},
   "outputs": [],
   "source": [
    "# Parameter Grid\n",
    "random_grid = {'n_estimators': n_estimators,\n",
    "               'max_features': max_features,\n",
    "               'max_depth': max_depth,\n",
    "               'min_samples_split': min_samples_split,\n",
    "               'min_samples_leaf': min_samples_leaf,\n",
    "               'bootstrap': bootstrap}"
   ]
  },
  {
   "cell_type": "code",
   "execution_count": null,
   "id": "49e0dedb",
   "metadata": {},
   "outputs": [],
   "source": [
    "# Running the Randomized Grid Search. \n",
    "rfc=RandomForestClassifier(random_state=42)\n",
    "random_rfc = RandomizedSearchCV(estimator = rfc, param_distributions = random_grid, n_iter = 100, cv = 3, verbose=2, \n",
    "                                random_state=42, n_jobs = -1)\n",
    "random_rfc.fit(X_train, y_train)"
   ]
  },
  {
   "cell_type": "code",
   "execution_count": null,
   "id": "64738a53",
   "metadata": {},
   "outputs": [],
   "source": [
    "print('\\033[1mBest Parameters')\n",
    "print('\\033[0m')\n",
    "random_rfc.best_params_"
   ]
  },
  {
   "cell_type": "markdown",
   "id": "42654513",
   "metadata": {},
   "source": [
    "### Final Run with Best Parameters"
   ]
  },
  {
   "cell_type": "code",
   "execution_count": null,
   "id": "703d5f92",
   "metadata": {
    "ExecuteTime": {
     "end_time": "2021-04-11T07:32:16.739906Z",
     "start_time": "2021-04-11T07:31:14.060228Z"
    }
   },
   "outputs": [],
   "source": [
    "rnd_clf=RandomForestClassifier(n_estimators=400, max_depth=20, max_features='sqrt', criterion='gini', min_samples_leaf=4,\n",
    "                               min_samples_split=2, bootstrap=False, n_jobs=-1)\n",
    "rnd_clf.fit(X_train, y_train)\n",
    "y_pred_rf=rnd_clf.predict(X_test)"
   ]
  },
  {
   "cell_type": "code",
   "execution_count": null,
   "id": "2543f579",
   "metadata": {
    "ExecuteTime": {
     "end_time": "2021-04-11T07:32:39.743680Z",
     "start_time": "2021-04-11T07:32:38.957260Z"
    }
   },
   "outputs": [],
   "source": [
    "from joblib import dump\n",
    "dump(rnd_clf, \"Saved models/RFC\")"
   ]
  },
  {
   "cell_type": "code",
   "execution_count": null,
   "id": "800eb804",
   "metadata": {
    "ExecuteTime": {
     "end_time": "2021-04-11T07:32:43.734462Z",
     "start_time": "2021-04-11T07:32:43.680128Z"
    },
    "scrolled": true
   },
   "outputs": [],
   "source": [
    "print('\\033[1mClassification Report')\n",
    "print('\\033[0m')\n",
    "print(classification_report(y_test, y_pred_rf))"
   ]
  },
  {
   "cell_type": "code",
   "execution_count": null,
   "id": "1608c049",
   "metadata": {
    "ExecuteTime": {
     "end_time": "2021-04-11T07:33:38.014157Z",
     "start_time": "2021-04-11T07:33:37.234153Z"
    }
   },
   "outputs": [],
   "source": [
    "from sklearn.metrics import roc_curve, roc_auc_score\n",
    "# predict probabilities\n",
    "lr_probs = rnd_clf.predict_proba(X_test)\n",
    "# keep probabilities for the positive outcome only\n",
    "lr_probs = lr_probs[:, 1]\n",
    "# calculate scores\n",
    "lr_auc = roc_auc_score(y_test, lr_probs)\n",
    "lr_auc"
   ]
  },
  {
   "cell_type": "code",
   "execution_count": null,
   "id": "6ec254da",
   "metadata": {
    "ExecuteTime": {
     "end_time": "2021-04-11T07:35:15.607950Z",
     "start_time": "2021-04-11T07:35:15.420977Z"
    }
   },
   "outputs": [],
   "source": [
    "from matplotlib import pyplot\n",
    "from numpy import sqrt, argmax, save\n",
    "import numpy as np\n",
    "# calculate roc curves\n",
    "fpr, tpr, thresholds = roc_curve(y_test, lr_probs)\n",
    "np.save(\"fpr_RFC\", fpr)\n",
    "np.save(\"tpr_RFC\", tpr)\n",
    "# plot the roc curve for the model\n",
    "pyplot.plot([0,1], [0,1], linestyle='--', label='No Skill')\n",
    "pyplot.plot(fpr, tpr, marker='.', label='Logistic')\n",
    "# axis labels\n",
    "pyplot.xlabel('False Positive Rate')\n",
    "pyplot.ylabel('True Positive Rate')\n",
    "pyplot.legend()\n",
    "# show the plot\n",
    "pyplot.show()"
   ]
  },
  {
   "cell_type": "code",
   "execution_count": null,
   "id": "d925398c",
   "metadata": {
    "ExecuteTime": {
     "end_time": "2021-04-11T07:37:00.724948Z",
     "start_time": "2021-04-11T07:37:00.536758Z"
    }
   },
   "outputs": [],
   "source": [
    "from sklearn.metrics import auc, precision_recall_curve, f1_score\n",
    "from matplotlib import pyplot\n",
    "lr_precision, lr_recall, thresholds = precision_recall_curve(y_test, lr_probs)\n",
    "np.save(\"lrp_RFC\", lr_precision)\n",
    "np.save(\"lrr_RFC\", lr_recall)\n",
    "lr_f1, lr_auc = f1_score(y_test, y_pred_rf), auc(lr_recall, lr_precision)\n",
    "# summarize scores\n",
    "print('SVM: f1=%.3f auc=%.3f' % (lr_f1, lr_auc))\n",
    "fscore = (2 * lr_precision * lr_recall) / (lr_precision + lr_recall)\n",
    "# plot the roc curve for the model\n",
    "no_skill = len(y_test[y_test==1]) / len(y_test)\n",
    "print(no_skill)\n",
    "pyplot.plot([0,1], [no_skill,no_skill], linestyle='--', label='No Skill')\n",
    "pyplot.plot(lr_recall, lr_precision, marker='.', label='Logistic')\n",
    "# axis labels\n",
    "pyplot.xlabel('Recall')\n",
    "pyplot.ylabel('Precision')\n",
    "pyplot.legend()\n",
    "# show the plot\n",
    "pyplot.show()"
   ]
  }
 ],
 "metadata": {
  "kernelspec": {
   "display_name": "Python 3",
   "language": "python",
   "name": "python3"
  },
  "language_info": {
   "codemirror_mode": {
    "name": "ipython",
    "version": 3
   },
   "file_extension": ".py",
   "mimetype": "text/x-python",
   "name": "python",
   "nbconvert_exporter": "python",
   "pygments_lexer": "ipython3",
   "version": "3.8.5"
  },
  "toc": {
   "base_numbering": 1,
   "nav_menu": {},
   "number_sections": true,
   "sideBar": true,
   "skip_h1_title": false,
   "title_cell": "Table of Contents",
   "title_sidebar": "Contents",
   "toc_cell": false,
   "toc_position": {},
   "toc_section_display": true,
   "toc_window_display": false
  },
  "varInspector": {
   "cols": {
    "lenName": 16,
    "lenType": 16,
    "lenVar": 40
   },
   "kernels_config": {
    "python": {
     "delete_cmd_postfix": "",
     "delete_cmd_prefix": "del ",
     "library": "var_list.py",
     "varRefreshCmd": "print(var_dic_list())"
    },
    "r": {
     "delete_cmd_postfix": ") ",
     "delete_cmd_prefix": "rm(",
     "library": "var_list.r",
     "varRefreshCmd": "cat(var_dic_list()) "
    }
   },
   "types_to_exclude": [
    "module",
    "function",
    "builtin_function_or_method",
    "instance",
    "_Feature"
   ],
   "window_display": false
  }
 },
 "nbformat": 4,
 "nbformat_minor": 5
}
