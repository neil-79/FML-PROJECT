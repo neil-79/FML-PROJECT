{
 "cells": [
  {
   "cell_type": "markdown",
   "id": "view-in-github",
   "metadata": {
    "id": "view-in-github"
   },
   "source": [
    "<a href=\"https://colab.research.google.com/github/yashrajkakkad/ml-spotify/blob/master/SVM.ipynb\" target=\"_parent\"><img src=\"https://colab.research.google.com/assets/colab-badge.svg\" alt=\"Open In Colab\"/></a>"
   ]
  },
  {
   "cell_type": "code",
   "execution_count": null,
   "id": "GwKN0ykKGyFi",
   "metadata": {
    "id": "GwKN0ykKGyFi"
   },
   "outputs": [],
   "source": [
    "import numpy as np\n",
    "import pandas as pd\n",
    "import matplotlib.pyplot as plt\n",
    "import seaborn as sns\n",
    "from sklearn.feature_selection import SelectPercentile, chi2\n",
    "from sklearn.model_selection import train_test_split, cross_val_score\n",
    "from sklearn.pipeline import Pipeline\n",
    "from sklearn.preprocessing import StandardScaler\n",
    "from sklearn.svm import SVC"
   ]
  },
  {
   "cell_type": "code",
   "execution_count": null,
   "id": "9huttumo4efc",
   "metadata": {
    "colab": {
     "base_uri": "https://localhost:8080/"
    },
    "id": "9huttumo4efc",
    "outputId": "b0303c3c-1925-4a4d-dd96-0e8ffe268f13"
   },
   "outputs": [],
   "source": [
    "from google.colab import drive\n",
    "drive.mount('/content/drive')"
   ]
  },
  {
   "cell_type": "code",
   "execution_count": null,
   "id": "instant-shoot",
   "metadata": {
    "ExecuteTime": {
     "end_time": "2021-03-02T09:02:13.472482Z",
     "start_time": "2021-03-02T09:02:12.150292Z"
    },
    "colab": {
     "base_uri": "https://localhost:8080/",
     "height": 215
    },
    "id": "instant-shoot",
    "outputId": "2448612e-07c4-4979-bdf1-df4c32a926c0",
    "scrolled": true
   },
   "outputs": [],
   "source": [
    "df = pd.read_csv('/content/drive/My Drive/ml-spotify/data_merged.csv')\n",
    "df.head()"
   ]
  },
  {
   "cell_type": "code",
   "execution_count": null,
   "id": "gnRjwr9xot4B",
   "metadata": {
    "colab": {
     "base_uri": "https://localhost:8080/"
    },
    "id": "gnRjwr9xot4B",
    "outputId": "72541f52-f118-4929-e9b2-d086cf32f0c9"
   },
   "outputs": [],
   "source": [
    "df.columns"
   ]
  },
  {
   "cell_type": "code",
   "execution_count": null,
   "id": "IMo1a9btHIef",
   "metadata": {
    "colab": {
     "base_uri": "https://localhost:8080/"
    },
    "id": "IMo1a9btHIef",
    "outputId": "0c581dbe-f720-42fc-fb89-8ba882c5d68d"
   },
   "outputs": [],
   "source": [
    "mean_popularity = 42\n",
    "df[\"popularity\"] = [ 1 if i >= mean_popularity else 0 for i in df.popularity ]\n",
    "df.popularity.value_counts()  "
   ]
  },
  {
   "cell_type": "code",
   "execution_count": null,
   "id": "lEQJh9X3zIhf",
   "metadata": {
    "id": "lEQJh9X3zIhf"
   },
   "outputs": [],
   "source": [
    "y = df[\"popularity\"].values\n",
    "X = df.drop([\"popularity\", \"mode\", \"loudness\", \"loudness_ar\", \"loudness_yr\"],axis=1)"
   ]
  },
  {
   "cell_type": "code",
   "execution_count": null,
   "id": "WzTKoo7wLQUM",
   "metadata": {
    "colab": {
     "base_uri": "https://localhost:8080/"
    },
    "id": "WzTKoo7wLQUM",
    "outputId": "fbfc39d7-7ffc-4b05-849d-cef7387c1772"
   },
   "outputs": [],
   "source": [
    "X.shape, y.shape"
   ]
  },
  {
   "cell_type": "code",
   "execution_count": null,
   "id": "tender-domain",
   "metadata": {
    "ExecuteTime": {
     "start_time": "2021-03-02T09:04:57.643Z"
    },
    "colab": {
     "base_uri": "https://localhost:8080/"
    },
    "id": "tender-domain",
    "outputId": "7178befb-dc62-4564-8d6f-f1fcd50e67cb"
   },
   "outputs": [],
   "source": [
    "%%time\n",
    "\n",
    "from sklearn.feature_selection import SelectPercentile, chi2\n",
    "X = SelectPercentile(chi2, percentile=10).fit_transform(X, y)\n",
    "\n",
    "input_scaler = StandardScaler()\n",
    "X_normalized = input_scaler.fit_transform(X)\n",
    "\n",
    "X_train, X_test, y_train, y_test = train_test_split(\n",
    "    X_normalized, y, test_size=0.20, random_state=42, stratify=y\n",
    ")"
   ]
  },
  {
   "cell_type": "code",
   "execution_count": null,
   "id": "__YWCNe2Q_uk",
   "metadata": {
    "colab": {
     "base_uri": "https://localhost:8080/"
    },
    "id": "__YWCNe2Q_uk",
    "outputId": "2bf5edb8-8a2e-4341-8746-8d34b9119caf"
   },
   "outputs": [],
   "source": [
    "%%time\n",
    "from sklearn.svm import SVC\n",
    "from sklearn.model_selection import cross_val_score, cross_val_predict, StratifiedKFold\n",
    "from sklearn.metrics import confusion_matrix, precision_score, recall_score, f1_score, classification_report\n",
    "from joblib import dump\n",
    "\n",
    "\n",
    "svm = SVC(kernel='linear',\n",
    "          C=1000,\n",
    "          random_state=42)\n",
    "svm.fit(X_train[:10000], y_train[:10000])\n",
    "dump(svm, \"mlspotify_SVM\")\n",
    "\n",
    "print(\"Train accuracy of svm algo:\", svm.score(X_train[:10000], y_train[:10000]))\n",
    "print(\"Test accuracy of svm algo:\", svm.score(X_test, y_test))\n",
    "\n",
    "# cv_scores = cross_val_score(svm, X_train[:20000], y_train[:20000])\n",
    "# print(\"Cross Validation scores - \", cv_scores)\n",
    "\n",
    "# y_train_pred = cross_val_predict(svm, X_train[:20000], y_train[:20000])\n",
    "\n",
    "# confusion_matrix = confusion_matrix(y_train[:20000], y_train_pred)\n",
    "# print(\"Confusion matrix\\n\", confusion_matrix)\n",
    "\n",
    "# p_score = precision_score(y_train[:20000], y_train_pred)\n",
    "# rc_score = recall_score(y_train[:20000], y_train_pred)\n",
    "# f1_score = f1_score(y_train[:20000], y_train_pred)\n",
    "# p_score, rc_score, f1_score\n",
    "# print(\"Recall score = \", rc_score)\n",
    "# print(\"Precision score = \", p_score)\n",
    "# print(\"F1 score = \", f1_score)\n",
    "\n",
    "y_pred = svm.predict(X_test)\n",
    "print(confusion_matrix(y_test, y_pred))\n",
    "print(\"Classification report\\n\")\n",
    "print(classification_report(y_test, y_pred))"
   ]
  },
  {
   "cell_type": "code",
   "execution_count": null,
   "id": "if_WFs7g8Ojy",
   "metadata": {
    "colab": {
     "base_uri": "https://localhost:8080/"
    },
    "id": "if_WFs7g8Ojy",
    "outputId": "ade08475-ede9-4d95-cbc2-5927c42dc784"
   },
   "outputs": [],
   "source": [
    "from joblib import load\n",
    "clf = load(\"mlspotify_SVM\")\n",
    "y_pred = clf.predict(X_test)\n",
    "print(confusion_matrix(y_test, y_pred))\n",
    "print(\"Classification report\\n\")\n",
    "print(classification_report(y_test, y_pred))"
   ]
  }
 ],
 "metadata": {
  "colab": {
   "collapsed_sections": [],
   "name": "SVM.ipynb",
   "provenance": []
  },
  "kernelspec": {
   "display_name": "Python 3",
   "name": "python3"
  },
  "notify_time": "30",
  "toc": {
   "base_numbering": 1,
   "nav_menu": {},
   "number_sections": true,
   "sideBar": true,
   "skip_h1_title": false,
   "title_cell": "Table of Contents",
   "title_sidebar": "Contents",
   "toc_cell": false,
   "toc_position": {},
   "toc_section_display": true,
   "toc_window_display": false
  },
  "varInspector": {
   "cols": {
    "lenName": 16,
    "lenType": 16,
    "lenVar": 40
   },
   "kernels_config": {
    "python": {
     "delete_cmd_postfix": "",
     "delete_cmd_prefix": "del ",
     "library": "var_list.py",
     "varRefreshCmd": "print(var_dic_list())"
    },
    "r": {
     "delete_cmd_postfix": ") ",
     "delete_cmd_prefix": "rm(",
     "library": "var_list.r",
     "varRefreshCmd": "cat(var_dic_list()) "
    }
   },
   "types_to_exclude": [
    "module",
    "function",
    "builtin_function_or_method",
    "instance",
    "_Feature"
   ],
   "window_display": false
  }
 },
 "nbformat": 4,
 "nbformat_minor": 5
}
