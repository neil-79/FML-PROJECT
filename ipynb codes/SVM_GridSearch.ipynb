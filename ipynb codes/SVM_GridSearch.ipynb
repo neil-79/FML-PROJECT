{
 "cells": [
  {
   "cell_type": "markdown",
   "id": "view-in-github",
   "metadata": {
    "id": "view-in-github"
   },
   "source": [
    "<a href=\"https://colab.research.google.com/github/yashrajkakkad/ml-spotify/blob/master/SVM_GridSearch.ipynb\" target=\"_parent\"><img src=\"https://colab.research.google.com/assets/colab-badge.svg\" alt=\"Open In Colab\"/></a>"
   ]
  },
  {
   "cell_type": "code",
   "execution_count": null,
   "id": "GwKN0ykKGyFi",
   "metadata": {
    "id": "GwKN0ykKGyFi"
   },
   "outputs": [],
   "source": [
    "import numpy as np\n",
    "import pandas as pd\n",
    "from sklearn.feature_selection import SelectPercentile, chi2\n",
    "from sklearn.model_selection import train_test_split, cross_val_score\n",
    "from sklearn.pipeline import Pipeline\n",
    "from sklearn.preprocessing import StandardScaler\n",
    "from sklearn.svm import SVC"
   ]
  },
  {
   "cell_type": "code",
   "execution_count": null,
   "id": "9huttumo4efc",
   "metadata": {
    "colab": {
     "base_uri": "https://localhost:8080/"
    },
    "id": "9huttumo4efc",
    "outputId": "11db33b5-6d25-4fc6-ee55-2a3e6e53f966"
   },
   "outputs": [],
   "source": [
    "from google.colab import drive\n",
    "drive.mount('/content/drive')"
   ]
  },
  {
   "cell_type": "code",
   "execution_count": null,
   "id": "instant-shoot",
   "metadata": {
    "colab": {
     "base_uri": "https://localhost:8080/",
     "height": 215
    },
    "id": "instant-shoot",
    "outputId": "f08271fc-6de7-4772-cc4b-c6e7b1bf5c1f",
    "scrolled": true
   },
   "outputs": [],
   "source": [
    "df = pd.read_csv('/content/drive/My Drive/ml-spotify/data_merged.csv')\n",
    "df.head()"
   ]
  },
  {
   "cell_type": "code",
   "execution_count": null,
   "id": "tfsWeIHbmfA6",
   "metadata": {
    "colab": {
     "base_uri": "https://localhost:8080/",
     "height": 304
    },
    "id": "tfsWeIHbmfA6",
    "outputId": "fcd75e38-42d6-4a5d-d0f2-6ed0e675fd64"
   },
   "outputs": [],
   "source": [
    "df.describe()"
   ]
  },
  {
   "cell_type": "code",
   "execution_count": null,
   "id": "democratic-portugal",
   "metadata": {
    "colab": {
     "base_uri": "https://localhost:8080/"
    },
    "id": "democratic-portugal",
    "outputId": "0960b938-910f-4634-e2c9-6263d53921d2"
   },
   "outputs": [],
   "source": [
    "len(df.columns), df.columns"
   ]
  },
  {
   "cell_type": "code",
   "execution_count": null,
   "id": "IMo1a9btHIef",
   "metadata": {
    "id": "IMo1a9btHIef"
   },
   "outputs": [],
   "source": [
    "mean_popularity = 42\n",
    "y_prime = [1 if i >= mean_popularity else 0 for i in df[\"popularity\"]]\n",
    "# y = pd.concat([df.id, pd.Series(y_prime, name=\"popularity\")], axis=1)\n",
    "y_popl = pd.concat([pd.Series(y_prime, name=\"popularity\")], axis=1)\n",
    "# y_popl[\"popularity\"].value_counts()\n",
    "y = y_popl[\"popularity\"]"
   ]
  },
  {
   "cell_type": "code",
   "execution_count": null,
   "id": "abandoned-apparatus",
   "metadata": {
    "colab": {
     "base_uri": "https://localhost:8080/"
    },
    "id": "abandoned-apparatus",
    "outputId": "b349c414-006b-4b48-eb13-557b154cedbb"
   },
   "outputs": [],
   "source": [
    "drop_cols = [\"popularity\", \"mode\", \"loudness\", \"loudness_ar\", \"loudness_yr\"]\n",
    "X = df.drop(drop_cols, axis=1)\n",
    "len(X.columns), X.columns"
   ]
  },
  {
   "cell_type": "code",
   "execution_count": null,
   "id": "WzTKoo7wLQUM",
   "metadata": {
    "colab": {
     "base_uri": "https://localhost:8080/"
    },
    "id": "WzTKoo7wLQUM",
    "outputId": "ce637c7a-3722-4e2b-bccb-8ec4184a8d68"
   },
   "outputs": [],
   "source": [
    "X.shape, y.shape"
   ]
  },
  {
   "cell_type": "code",
   "execution_count": null,
   "id": "Seq61a0f9stt",
   "metadata": {
    "colab": {
     "base_uri": "https://localhost:8080/",
     "height": 295
    },
    "id": "Seq61a0f9stt",
    "outputId": "ac2fe82a-663d-4596-c8b9-e0fb0e741fbc"
   },
   "outputs": [],
   "source": [
    "from sklearn.pipeline import Pipeline\n",
    "from sklearn.feature_selection import SelectPercentile, chi2\n",
    "import matplotlib.pyplot as plt\n",
    "\n",
    "clf = Pipeline([('anova', SelectPercentile(chi2)),\n",
    "                ('scaler', StandardScaler()),\n",
    "                ('svc', SVC(gamma=\"auto\"))])\n",
    "\n",
    "# #############################################################################\n",
    "# Plot the cross-validation score as a function of percentile of features\n",
    "score_means = list()\n",
    "score_stds = list()\n",
    "percentiles = (1, 3, 6, 10, 15, 20, 30, 40, 60, 80, 100)\n",
    "\n",
    "for percentile in percentiles:\n",
    "    clf.set_params(anova__percentile=percentile)\n",
    "    this_scores = cross_val_score(clf, X_train[:20000], y_train[:20000])\n",
    "    score_means.append(this_scores.mean())\n",
    "    score_stds.append(this_scores.std())\n",
    "\n",
    "plt.errorbar(percentiles, score_means, np.array(score_stds))\n",
    "plt.title(\n",
    "    'Performance of the SVM-Anova varying the percentile of features selected')\n",
    "plt.xticks(np.linspace(0, 100, 11, endpoint=True))\n",
    "plt.xlabel('Percentile')\n",
    "plt.ylabel('Accuracy Score')\n",
    "plt.axis('tight')\n",
    "plt.show()"
   ]
  },
  {
   "cell_type": "code",
   "execution_count": null,
   "id": "tender-domain",
   "metadata": {
    "colab": {
     "base_uri": "https://localhost:8080/"
    },
    "id": "tender-domain",
    "outputId": "6f6ec80f-cd8d-4396-bba0-5b3f3bb62840"
   },
   "outputs": [],
   "source": [
    "from sklearn.feature_selection import SelectPercentile, chi2\n",
    "X = SelectPercentile(chi2, percentile=10).fit_transform(X, y)\n",
    "\n",
    "scaler = StandardScaler().fit(X)\n",
    "X = scaler.transform(X)\n",
    "X.shape"
   ]
  },
  {
   "cell_type": "code",
   "execution_count": null,
   "id": "xwjgynfPQ4tF",
   "metadata": {
    "id": "xwjgynfPQ4tF"
   },
   "outputs": [],
   "source": [
    "X_train, X_test, y_train, y_test = train_test_split(\n",
    "    X, y, test_size=0.20, stratify=y, random_state=42\n",
    ")"
   ]
  },
  {
   "cell_type": "code",
   "execution_count": null,
   "id": "__YWCNe2Q_uk",
   "metadata": {
    "colab": {
     "base_uri": "https://localhost:8080/"
    },
    "id": "__YWCNe2Q_uk",
    "outputId": "e7a72745-b05a-4190-a892-48e69369c731"
   },
   "outputs": [],
   "source": [
    "%%time\n",
    "from sklearn.svm import SVC\n",
    "from sklearn.model_selection import GridSearchCV, cross_val_score, cross_val_predict\n",
    "from sklearn.metrics import confusion_matrix, precision_score, recall_score, f1_score, classification_report\n",
    "\n",
    "# Set the parameters by cross-validation\n",
    "tuned_parameters = [\n",
    "#                         'kernel': ['rbf'], \n",
    "#                         'gamma': [1e-3, 1e-4],\n",
    "#                         'C': [1, 10, 100, 1000]\n",
    "#                     },\n",
    "                    {\n",
    "                        'kernel': ['linear'],\n",
    "                        'C': [1000, 1e4]\n",
    "                    }]\n",
    "\n",
    "scores = ['recall', 'f1']\n",
    "\n",
    "for score in scores:\n",
    "    print(\"# Tuning hyper-parameters for %s\" % score)\n",
    "    print()\n",
    "\n",
    "    clf = GridSearchCV(\n",
    "        SVC(), tuned_parameters, scoring='%s' % score\n",
    "    )\n",
    "    clf.fit(X_train[:10000], y_train[:10000])\n",
    "\n",
    "    print(\"Best parameters set found on development set:\")\n",
    "    print()\n",
    "    print(clf.best_params_)\n",
    "    print()\n",
    "    print(\"Grid scores on development set:\")\n",
    "    print()\n",
    "    means = clf.cv_results_['mean_test_score']\n",
    "    stds = clf.cv_results_['std_test_score']\n",
    "    for mean, std, params in zip(means, stds, clf.cv_results_['params']):\n",
    "        print(\"%0.3f (+/-%0.03f) for %r\"\n",
    "              % (mean, std * 2, params))\n",
    "    print()\n",
    "\n",
    "    print(\"Detailed classification report:\")\n",
    "    print()\n",
    "    print(\"The model is trained on the full development set.\")\n",
    "    print(\"The scores are computed on the full evaluation set.\")\n",
    "    print()\n",
    "    y_true, y_pred = y_test, clf.predict(X_test)\n",
    "    print(confusion_matrix(y_test, y_pred))\n",
    "    print(classification_report(y_true, y_pred))\n",
    "    print()\n",
    "\n",
    "# svm = LinearSVC(random_state=42, tol=1e-5, max_iter=10000)\n",
    "# svm.fit(X_train[:50000], y_train[:50000])\n",
    "# # print(\"Train accuracy of svm algo:\", svm.score(X_train, y_train))\n",
    "# # print(\"Test accuracy of svm algo:\", svm.score(X_test, y_test))\n",
    "\n",
    "\n",
    "# cv_scores = cross_val_score(svm, X_train[:100000], y_train[:100000], cv=3)\n",
    "# print(\"Cross Validation scores - \", cv_scores)\n",
    "\n",
    "# y_train_pred = cross_val_predict(svm, X_train[:100000], y_train[:100000])\n",
    "\n",
    "# confusion_matrix = confusion_matrix(y_train[:100000], y_train_pred)\n",
    "# print(\"Confusion matrix\\n\", confusion_matrix)\n",
    "\n",
    "# p_score = precision_score(y_train[:100000], y_train_pred)\n",
    "# rc_score = recall_score(y_train[:100000], y_train_pred)\n",
    "# f1_score = f1_score(y_train[:100000], y_train_pred)\n",
    "# p_score, rc_score, f1_score\n",
    "# print(\"Recall score = \", rc_score)\n",
    "# print(\"Precision score = \", p_score)\n",
    "# print(\"F1 score = \", f1_score)\n",
    "\n",
    "# print(\"Classification report\\n\")\n",
    "# print(classification_report(y_train[:100000], y_train_pred))"
   ]
  }
 ],
 "metadata": {
  "colab": {
   "collapsed_sections": [],
   "name": "SVM_GridSearch.ipynb",
   "provenance": []
  },
  "kernelspec": {
   "display_name": "Python 3",
   "name": "python3"
  },
  "notify_time": "30",
  "toc": {
   "base_numbering": 1,
   "nav_menu": {},
   "number_sections": true,
   "sideBar": true,
   "skip_h1_title": false,
   "title_cell": "Table of Contents",
   "title_sidebar": "Contents",
   "toc_cell": false,
   "toc_position": {},
   "toc_section_display": true,
   "toc_window_display": false
  },
  "varInspector": {
   "cols": {
    "lenName": 16,
    "lenType": 16,
    "lenVar": 40
   },
   "kernels_config": {
    "python": {
     "delete_cmd_postfix": "",
     "delete_cmd_prefix": "del ",
     "library": "var_list.py",
     "varRefreshCmd": "print(var_dic_list())"
    },
    "r": {
     "delete_cmd_postfix": ") ",
     "delete_cmd_prefix": "rm(",
     "library": "var_list.r",
     "varRefreshCmd": "cat(var_dic_list()) "
    }
   },
   "types_to_exclude": [
    "module",
    "function",
    "builtin_function_or_method",
    "instance",
    "_Feature"
   ],
   "window_display": false
  }
 },
 "nbformat": 4,
 "nbformat_minor": 5
}
