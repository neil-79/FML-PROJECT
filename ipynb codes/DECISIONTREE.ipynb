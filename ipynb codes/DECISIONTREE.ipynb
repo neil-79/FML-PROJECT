{
 "cells": [
  {
   "cell_type": "code",
   "execution_count": 1,
   "metadata": {},
   "outputs": [],
   "source": [
    "\n",
    "from sklearn.tree import DecisionTreeClassifier\n",
    "import pandas as pd\n",
    "from sklearn.model_selection import train_test_split, GridSearchCV\n",
    "from sklearn.metrics import accuracy_score, confusion_matrix, classification_report\n",
    "from matplotlib import pyplot as plt\n",
    "from numpy import sqrt, argmax, save\n",
    "import numpy as np\n",
    "\n"
   ]
  },
  {
   "cell_type": "code",
   "execution_count": 2,
   "metadata": {},
   "outputs": [],
   "source": [
    "# Load and preprocess data\n",
    "data = pd.read_csv(r'C:\\Users\\Neil\\OneDrive\\Desktop\\song-popularity-prediction-master\\Dataset\\data_merged.csv')\n",
    "popularity_threshold = 42\n",
    "data[\"popularity\"] = data[\"popularity\"].apply(lambda x: 1 if x >= popularity_threshold else 0)\n",
    "\n"
   ]
  },
  {
   "cell_type": "code",
   "execution_count": 3,
   "metadata": {},
   "outputs": [],
   "source": [
    "# Split features and target\n",
    "features = data.drop(['popularity', 'mode'], axis=1)\n",
    "target = data['popularity']\n",
    "\n"
   ]
  },
  {
   "cell_type": "code",
   "execution_count": 4,
   "metadata": {},
   "outputs": [],
   "source": [
    "# Train-test split\n",
    "X_train, X_test, y_train, y_test = train_test_split(\n",
    "    features, target, test_size=0.2, stratify=target, random_state=42\n",
    ")\n",
    "\n"
   ]
  },
  {
   "cell_type": "code",
   "execution_count": null,
   "metadata": {},
   "outputs": [],
   "source": [
    "# Define hyperparameters for Grid Search\n",
    "hyperparameters = {\n",
    "    'max_depth': [8, 10, 12],\n",
    "    'min_samples_split': [8, 10, 12],\n",
    "    'min_samples_leaf': [1, 2, 3, 4],\n",
    "}\n",
    "\n",
    "# Train Decision Tree Classifier with Grid Search\n",
    "dt_model = DecisionTreeClassifier()\n",
    "grid_search = GridSearchCV(estimator=dt_model, param_grid=hyperparameters)\n",
    "grid_search.fit(X_train, y_train)\n",
    "\n"
   ]
  },
  {
   "cell_type": "code",
   "execution_count": null,
   "metadata": {},
   "outputs": [],
   "source": [
    "# Display best parameters\n",
    "optimal_params = grid_search.best_estimator_.get_params()\n",
    "print(f\"Optimal parameters: {optimal_params}\")\n",
    "\n"
   ]
  },
  {
   "cell_type": "code",
   "execution_count": null,
   "metadata": {},
   "outputs": [],
   "source": [
    "# Train the model with optimal parameters\n",
    "final_model = DecisionTreeClassifier(\n",
    "    max_depth=optimal_params['max_depth'],\n",
    "    min_samples_split=optimal_params['min_samples_split'],\n",
    "    min_samples_leaf=optimal_params['min_samples_leaf'],\n",
    "    criterion='gini'\n",
    ")\n",
    "final_model.fit(X_train, y_train)\n",
    "\n"
   ]
  },
  {
   "cell_type": "code",
   "execution_count": null,
   "metadata": {},
   "outputs": [],
   "source": [
    "# Save the trained model\n",
    "from joblib import dump\n",
    "dump(final_model, r'C:\\Users\\Neil\\OneDrive\\Desktop\\song-popularity-prediction-master\\models\\optimized_decision_tree_model.joblib')\n",
    "\n"
   ]
  },
  {
   "cell_type": "code",
   "execution_count": null,
   "metadata": {},
   "outputs": [],
   "source": [
    "# Evaluate model performance\n",
    "y_pred_test = final_model.predict(X_test)\n",
    "y_pred_train = final_model.predict(X_train)\n",
    "\n",
    "print(f\"Test Accuracy: {accuracy_score(y_test, y_pred_test)}\")\n",
    "print(f\"Train Accuracy: {accuracy_score(y_train, y_pred_train)}\")\n",
    "print(confusion_matrix(y_test, y_pred_test))\n",
    "print(classification_report(y_test, y_pred_test))\n",
    "\n"
   ]
  },
  {
   "cell_type": "code",
   "execution_count": null,
   "metadata": {},
   "outputs": [],
   "source": [
    "# ROC Curve and AUC\n",
    "from sklearn.metrics import roc_curve, roc_auc_score  # Ensure necessary imports are present\n",
    "predicted_probabilities = final_model.predict_proba(X_test)[:, 1]\n",
    "fpr, tpr, roc_thresholds = roc_curve(y_test, predicted_probabilities)\n",
    "roc_auc = roc_auc_score(y_test, predicted_probabilities)\n",
    "print(f\"AUC: {roc_auc}\")\n",
    "\n"
   ]
  },
  {
   "cell_type": "code",
   "execution_count": null,
   "metadata": {},
   "outputs": [],
   "source": [
    "# Save performance metrics\n",
    "np.save(\"fpr_dt\", fpr)\n",
    "np.save(\"tpr_dt\", tpr)\n",
    "\n",
    "plt.plot([0, 1], [0, 1], linestyle='--')\n",
    "plt.plot(fpr, tpr, marker='.')\n",
    "plt.xlabel('False Positive Rate')\n",
    "plt.ylabel('True Positive Rate')\n",
    "plt.title('ROC Curve')\n",
    "plt.show()\n",
    "\n"
   ]
  },
  {
   "cell_type": "code",
   "execution_count": null,
   "metadata": {},
   "outputs": [],
   "source": [
    "# Precision-Recall Curve\n",
    "from sklearn.metrics import precision_recall_curve, auc  # Ensure necessary imports are present\n",
    "precision, recall, pr_thresholds = precision_recall_curve(y_test, predicted_probabilities)\n",
    "pr_auc = auc(recall, precision)\n",
    "print(f\"Precision-Recall AUC: {pr_auc}\")\n",
    "\n",
    "# Save Precision-Recall metrics\n",
    "np.save(\"precision_dt\", precision)\n",
    "np.save(\"recall_dt\", recall)\n",
    "\n",
    "# Plot the Precision-Recall Curve\n",
    "plt.plot(recall, precision, marker='.')\n",
    "plt.xlabel('Recall')\n",
    "plt.ylabel('Precision')\n",
    "plt.title('Precision-Recall Curve')\n",
    "plt.show()\n"
   ]
  }
 ],
 "metadata": {
  "kernelspec": {
   "display_name": "base",
   "language": "python",
   "name": "python3"
  },
  "language_info": {
   "codemirror_mode": {
    "name": "ipython",
    "version": 3
   },
   "file_extension": ".py",
   "mimetype": "text/x-python",
   "name": "python",
   "nbconvert_exporter": "python",
   "pygments_lexer": "ipython3",
   "version": "3.12.7"
  }
 },
 "nbformat": 4,
 "nbformat_minor": 2
}
