{
 "cells": [
  {
   "cell_type": "markdown",
   "id": "sudden-demographic",
   "metadata": {},
   "source": [
    "### Importing Relevant Things "
   ]
  },
  {
   "cell_type": "code",
   "execution_count": 50,
   "id": "attempted-signal",
   "metadata": {
    "ExecuteTime": {
     "end_time": "2021-04-11T07:41:02.343419Z",
     "start_time": "2021-04-11T07:41:01.700414Z"
    }
   },
   "outputs": [],
   "source": [
    "import pandas as pd\n",
    "import numpy as np\n",
    "from matplotlib import pyplot as plt\n",
    "from sklearn.model_selection import train_test_split, GridSearchCV\n",
    "from sklearn.preprocessing import PolynomialFeatures\n",
    "from sklearn.preprocessing import StandardScaler\n",
    "from sklearn.linear_model import LogisticRegression, LinearRegression\n",
    "from sklearn.metrics import accuracy_score, r2_score, mean_squared_error\n",
    "from sklearn.feature_selection import SelectKBest, VarianceThreshold\n",
    "from sklearn.feature_selection import chi2,mutual_info_classif,f_regression,f_classif\n",
    "from sklearn.metrics import classification_report, confusion_matrix\n",
    "from sklearn.model_selection import cross_val_score"
   ]
  },
  {
   "cell_type": "markdown",
   "id": "fundamental-pocket",
   "metadata": {},
   "source": [
    "### Loading the modified dataset"
   ]
  },
  {
   "cell_type": "code",
   "execution_count": 51,
   "id": "occasional-apollo",
   "metadata": {
    "ExecuteTime": {
     "end_time": "2021-04-11T07:41:05.495465Z",
     "start_time": "2021-04-11T07:41:04.126419Z"
    }
   },
   "outputs": [],
   "source": [
    "# df = pd.read_csv('dataset/data_merged.csv')\n",
    "df = pd.read_csv('data_merged.csv')\n",
    "list(df.columns)\n",
    "\n",
    "# Two of the columns containing almost constant values are eliminated because owing to their constant values, \n",
    "# they will not affect the output at all. \n",
    "del df['mode']\n",
    "del df['key_6_yr']\n",
    "#del df['popularity_ar']\n",
    "#del df['popularity_yr']"
   ]
  },
  {
   "cell_type": "code",
   "execution_count": null,
   "id": "wicked-entrepreneur",
   "metadata": {
    "ExecuteTime": {
     "end_time": "2021-04-10T18:47:08.113095Z",
     "start_time": "2021-04-10T18:47:08.092797Z"
    }
   },
   "outputs": [],
   "source": [
    "df.head()"
   ]
  },
  {
   "cell_type": "markdown",
   "id": "bridal-prison",
   "metadata": {},
   "source": [
    "### Linear Regression"
   ]
  },
  {
   "cell_type": "code",
   "execution_count": 53,
   "id": "spatial-andrew",
   "metadata": {
    "ExecuteTime": {
     "end_time": "2021-04-11T07:41:10.919440Z",
     "start_time": "2021-04-11T07:41:10.837039Z"
    }
   },
   "outputs": [],
   "source": [
    "# Define the feature dataset\n",
    "X = df[df.columns.difference(['popularity'])]\n",
    "\n",
    "# Define the value we want to predict\n",
    "y = df['popularity']"
   ]
  },
  {
   "cell_type": "code",
   "execution_count": 54,
   "id": "simple-founder",
   "metadata": {
    "ExecuteTime": {
     "end_time": "2021-04-11T07:41:12.452850Z",
     "start_time": "2021-04-11T07:41:12.328732Z"
    }
   },
   "outputs": [],
   "source": [
    "# Splitting data in to train and test sets\n",
    "X_train, X_test, y_train, y_test = train_test_split(X, y, test_size=0.2, random_state=42)"
   ]
  },
  {
   "cell_type": "markdown",
   "id": "bigger-database",
   "metadata": {
    "heading_collapsed": true
   },
   "source": [
    "#### Initial Run"
   ]
  },
  {
   "cell_type": "code",
   "execution_count": null,
   "id": "atlantic-roommate",
   "metadata": {
    "hidden": true,
    "scrolled": true
   },
   "outputs": [],
   "source": [
    "# Train linear regressor\n",
    "lin_reg = LinearRegression().fit(X_train, y_train)\n",
    "\n",
    "# Predict on train data\n",
    "y_pred_training = lin_reg.predict(X_train)\n",
    "\n",
    "# Print r_2 scores and RMSE for training set\n",
    "print('\\033[1mFor Train Data')\n",
    "print('\\033[0mCoefficient of determination: %.5f'\n",
    "      % r2_score(y_train, y_pred_training))\n",
    "print('Root mean squared error: %.5f'\n",
    "      % np.sqrt(mean_squared_error(y_train, y_pred_training)))"
   ]
  },
  {
   "cell_type": "code",
   "execution_count": null,
   "id": "orange-prophet",
   "metadata": {
    "hidden": true
   },
   "outputs": [],
   "source": [
    "# Predict on test data\n",
    "y_pred = lin_reg.predict(X_test)\n",
    "\n",
    "# Print r_2 scores and RMSE for test set\n",
    "print('\\033[1mFor Test Data')\n",
    "print('\\033[0mCoefficient of determination: %.5f'\n",
    "      % r2_score(y_test, y_pred))\n",
    "print('Root Mean squared error: %.5f'\n",
    "      % np.sqrt(mean_squared_error(y_test, y_pred)))"
   ]
  },
  {
   "cell_type": "markdown",
   "id": "simplified-shakespeare",
   "metadata": {
    "heading_collapsed": true
   },
   "source": [
    "#### Feature Selection\n",
    "Now, we perform feature selection using the SelectKBest class in sklearn. First, we plot a graph of the co-efficient of determination vs. number of features and see how many features out of 70 we require to retain for sufficient accuracy. "
   ]
  },
  {
   "cell_type": "code",
   "execution_count": 57,
   "id": "authorized-choice",
   "metadata": {
    "hidden": true
   },
   "outputs": [],
   "source": [
    "r_2scores = []\n",
    "rmse = []\n",
    "\n",
    "for i in range(1,68):\n",
    "    EX = SelectKBest(f_regression, k =i).fit_transform(X,y)\n",
    "    X_train, X_test, y_train, y_test = train_test_split(EX, y, test_size=0.2, random_state=42)\n",
    "    lin_reg = LinearRegression().fit(X_train, y_train)\n",
    "    y_pred = lin_reg.predict(X_test)\n",
    "    rmse.append(np.sqrt(mean_squared_error(y_test, y_pred)))\n",
    "    r_2scores.append(r2_score(y_test, y_pred))"
   ]
  },
  {
   "cell_type": "code",
   "execution_count": null,
   "id": "accredited-pittsburgh",
   "metadata": {
    "hidden": true
   },
   "outputs": [],
   "source": [
    "plt.figure(figsize = (13,8))\n",
    "plt.plot(r_2scores)\n",
    "plt.xlabel(\"Features\")\n",
    "plt.ylabel(\"Co-efficient of Determination\")\n",
    "plt.savefig('r2_score.png', pad_inches=0)\n",
    "plt.show()\n",
    "\n",
    "plt.figure(figsize = (13,8))\n",
    "plt.plot(rmse)\n",
    "plt.xlabel(\"Features\")\n",
    "plt.ylabel(\"Root Mean Squared Error\")\n",
    "plt.savefig('rmse.png', pad_inches=0)\n",
    "plt.show()"
   ]
  },
  {
   "cell_type": "markdown",
   "id": "detected-nerve",
   "metadata": {
    "heading_collapsed": true
   },
   "source": [
    "#### Final Run\n",
    "\n",
    "We see a clear jump in accuracy for the first few features after which the $r_2$ scores plateau. We pick $k = 27$ to be a fair number of features for linear regression after which the gain in accuracy is not worth the computing cost."
   ]
  },
  {
   "cell_type": "code",
   "execution_count": null,
   "id": "egyptian-sydney",
   "metadata": {
    "hidden": true
   },
   "outputs": [],
   "source": [
    "X_final = SelectKBest(f_regression, k =27).fit_transform(X,y)\n",
    "X_train, X_test, y_train, y_test = train_test_split(X_final, y, test_size=0.2, random_state=42)\n",
    "\n",
    "# Train linear regressor\n",
    "lin_reg = LinearRegression().fit(X_train, y_train)\n",
    "\n",
    "# Predict on train data\n",
    "y_pred_training = lin_reg.predict(X_train)\n",
    "\n",
    "# Print r_2 scores and RMSE for training set\n",
    "print('\\033[1mFor Train Data')\n",
    "print('\\033[0mCoefficient of determination: %.5f'\n",
    "      % r2_score(y_train, y_pred_training))\n",
    "print('Root mean squared error: %.5f'\n",
    "      % np.sqrt(mean_squared_error(y_train, y_pred_training)))"
   ]
  },
  {
   "cell_type": "code",
   "execution_count": null,
   "id": "difficult-mozambique",
   "metadata": {
    "hidden": true
   },
   "outputs": [],
   "source": [
    "# Predicting on test data\n",
    "y_pred = lin_reg.predict(X_test)\n",
    "\n",
    "# Print r_2 scores and RMSE for test set\n",
    "print('\\033[1mFor Test Data')\n",
    "print('\\033[0mCoefficient of determination: %.5f'\n",
    "      % r2_score(y_test, y_pred))\n",
    "print('Root Mean squared error: %.5f'\n",
    "      % np.sqrt(mean_squared_error(y_test, y_pred)))"
   ]
  },
  {
   "cell_type": "markdown",
   "id": "constant-council",
   "metadata": {
    "heading_collapsed": true
   },
   "source": [
    "### Polynomial Regression"
   ]
  },
  {
   "cell_type": "code",
   "execution_count": null,
   "id": "imperial-stockholm",
   "metadata": {
    "hidden": true
   },
   "outputs": [],
   "source": [
    "# Specify the degree of polynomial features\n",
    "\n",
    "poly = PolynomialFeatures(degree=2) # Degree 3 needs more RAM to run than is available. \n",
    "X_poly = poly.fit_transform(X_final)\n",
    "\n",
    "# Split dataset in to train and test data\n",
    "X_train1, X_test1, y_train1, y_test1 = train_test_split(X_poly, y, test_size=0.2, random_state = 42)\n",
    "\n",
    "# Train polynomial regressor\n",
    "poly_reg = LinearRegression().fit(X_train1, y_train1)\n",
    "\n",
    "# Predict for train set\n",
    "y_pred_train = poly_reg.predict(X_train1)\n",
    "print('\\033[1mFor Train Data')\n",
    "print('\\033[0mCoefficient of determination: %.5f'\n",
    "      % r2_score(y_train1, y_pred_train))\n",
    "print('Mean squared error: %.5f'\n",
    "      % np.sqrt(mean_squared_error(y_train1, y_pred_train)))\n",
    "\n",
    "# Predict for test data\n",
    "y_pred1 = poly_reg.predict(X_test1)\n",
    "print('\\033[1mFor Test Data')\n",
    "print('\\033[0mCoefficient of determination: %.5f'\n",
    "      % r2_score(y_test1, y_pred1))\n",
    "print('Mean squared error: %.5f'\n",
    "      % np.sqrt(mean_squared_error(y_test1, y_pred1)))"
   ]
  },
  {
   "cell_type": "markdown",
   "id": "successful-stanley",
   "metadata": {
    "hidden": true
   },
   "source": [
    "The improvement here is of $~0.1\\ \\%$ compared to linear regression with no polynomial features. "
   ]
  },
  {
   "cell_type": "markdown",
   "id": "noble-birthday",
   "metadata": {},
   "source": [
    "###  Logistic Regression"
   ]
  },
  {
   "cell_type": "code",
   "execution_count": 61,
   "id": "sorted-serum",
   "metadata": {
    "ExecuteTime": {
     "end_time": "2021-04-11T07:41:27.370776Z",
     "start_time": "2021-04-11T07:41:26.670495Z"
    }
   },
   "outputs": [],
   "source": [
    "# Changing our output from a continuous value to two labels: 1 if the song is popular, 0 if the song isn't.\n",
    "# The threshold is selected using data from billboard chart data. \n",
    "y_log = pd.cut(x=df[\"popularity\"], bins=[-1,42,100], labels=[0,1]) ## Threshold can be either 50 or 26 (mean)\n",
    "\n",
    "# Manually varying k again leads to plateau in accuracy scores after around k=27.\n",
    "X_log = SelectKBest(f_classif, k=27).fit_transform(X, y_log)"
   ]
  },
  {
   "cell_type": "code",
   "execution_count": null,
   "id": "statutory-brunei",
   "metadata": {
    "ExecuteTime": {
     "end_time": "2021-04-11T07:41:35.746076Z",
     "start_time": "2021-04-11T07:41:33.048791Z"
    }
   },
   "outputs": [],
   "source": [
    "X_train2, X_test2, y_train2, y_test2 = train_test_split(X_log, y_log, test_size=0.2, random_state=42)\n",
    "\n",
    "# scaler = StandardScaler()\n",
    "# X_train2_scaled = scaler.fit_transform(X_train2)\n",
    "# X_test2_scaled = scaler.transform(X_test2)\n",
    "\n",
    "log_clf = LogisticRegression(random_state=42, max_iter=10000).fit(X_train2, y_train2)\n",
    "\n",
    "from joblib import dump\n",
    "dump(log_clf, \"mlspotify_LogR\")\n",
    "\n",
    "# y_pred2 = log_clf.predict(X_test2_scaled)\n",
    "y_pred2 = log_clf.predict(X_test2)\n",
    "\n",
    "print('\\033[1mClassification Report')\n",
    "print('\\033[0m')\n",
    "print(classification_report(y_test2, y_pred2))\n",
    "\n",
    "print('\\033[1mConfusion Matrix')\n",
    "print('\\033[0m')\n",
    "print(confusion_matrix(y_test2, y_pred2))"
   ]
  },
  {
   "cell_type": "code",
   "execution_count": null,
   "id": "controversial-connection",
   "metadata": {
    "ExecuteTime": {
     "end_time": "2021-04-11T07:42:29.723796Z",
     "start_time": "2021-04-11T07:42:29.655310Z"
    }
   },
   "outputs": [],
   "source": [
    "from sklearn.metrics import roc_curve, roc_auc_score\n",
    "# predict probabilities\n",
    "lr_probs = log_clf.predict_proba(X_test2)\n",
    "# keep probabilities for the positive outcome only\n",
    "lr_probs = lr_probs[:, 1]\n",
    "# calculate scores\n",
    "lr_auc = roc_auc_score(y_test2, lr_probs)\n",
    "lr_auc"
   ]
  },
  {
   "cell_type": "code",
   "execution_count": null,
   "id": "subjective-control",
   "metadata": {
    "ExecuteTime": {
     "end_time": "2021-04-11T07:42:55.125743Z",
     "start_time": "2021-04-11T07:42:54.965563Z"
    }
   },
   "outputs": [],
   "source": [
    "from matplotlib import pyplot\n",
    "from numpy import sqrt, argmax, save\n",
    "import numpy as np\n",
    "# calculate roc curves\n",
    "fpr, tpr, thresholds = roc_curve(y_test2, lr_probs)\n",
    "np.save(\"fpr_LR\", fpr)\n",
    "np.save(\"tpr_LR\", tpr)\n",
    "# plot the roc curve for the model\n",
    "pyplot.plot([0,1], [0,1], linestyle='--', label='No Skill')\n",
    "pyplot.plot(fpr, tpr, marker='.', label='Logistic')\n",
    "# axis labels\n",
    "pyplot.xlabel('False Positive Rate')\n",
    "pyplot.ylabel('True Positive Rate')\n",
    "pyplot.legend()\n",
    "# show the plot\n",
    "pyplot.show()"
   ]
  },
  {
   "cell_type": "code",
   "execution_count": null,
   "id": "boring-episode",
   "metadata": {
    "ExecuteTime": {
     "end_time": "2021-04-11T07:43:38.031300Z",
     "start_time": "2021-04-11T07:43:37.846704Z"
    }
   },
   "outputs": [],
   "source": [
    "from sklearn.metrics import auc, precision_recall_curve, f1_score\n",
    "from matplotlib import pyplot\n",
    "lr_precision, lr_recall, thresholds = precision_recall_curve(y_test2, lr_probs)\n",
    "np.save(\"lrp_LR\", lr_precision)\n",
    "np.save(\"lrr_LR\", lr_recall)\n",
    "lr_f1, lr_auc = f1_score(y_test2, y_pred2), auc(lr_recall, lr_precision)\n",
    "# summarize scores\n",
    "print('SVM: f1=%.3f auc=%.3f' % (lr_f1, lr_auc))\n",
    "fscore = (2 * lr_precision * lr_recall) / (lr_precision + lr_recall)\n",
    "# plot the roc curve for the model\n",
    "no_skill = len(y_test2[y_test2==1]) / len(y_test2)\n",
    "print(no_skill)\n",
    "pyplot.plot([0,1], [no_skill,no_skill], linestyle='--', label='No Skill')\n",
    "pyplot.plot(lr_recall, lr_precision, marker='.', label='Logistic')\n",
    "# axis labels\n",
    "pyplot.xlabel('Recall')\n",
    "pyplot.ylabel('Precision')\n",
    "pyplot.legend()\n",
    "# show the plot\n",
    "pyplot.show()"
   ]
  },
  {
   "cell_type": "code",
   "execution_count": null,
   "id": "3a098314-8a26-4734-998f-521b76eaca98",
   "metadata": {},
   "outputs": [],
   "source": []
  },
  {
   "cell_type": "code",
   "execution_count": null,
   "id": "62b9af31-d4f5-46c7-8e6d-0c674095f3c2",
   "metadata": {},
   "outputs": [],
   "source": []
  }
 ],
 "metadata": {
  "kernelspec": {
   "display_name": "Python 3 (ipykernel)",
   "language": "python",
   "name": "python3"
  },
  "language_info": {
   "codemirror_mode": {
    "name": "ipython",
    "version": 3
   },
   "file_extension": ".py",
   "mimetype": "text/x-python",
   "name": "python",
   "nbconvert_exporter": "python",
   "pygments_lexer": "ipython3",
   "version": "3.12.7"
  },
  "toc": {
   "base_numbering": 1,
   "nav_menu": {},
   "number_sections": true,
   "sideBar": true,
   "skip_h1_title": false,
   "title_cell": "Table of Contents",
   "title_sidebar": "Contents",
   "toc_cell": false,
   "toc_position": {},
   "toc_section_display": true,
   "toc_window_display": false
  },
  "varInspector": {
   "cols": {
    "lenName": 16,
    "lenType": 16,
    "lenVar": 40
   },
   "kernels_config": {
    "python": {
     "delete_cmd_postfix": "",
     "delete_cmd_prefix": "del ",
     "library": "var_list.py",
     "varRefreshCmd": "print(var_dic_list())"
    },
    "r": {
     "delete_cmd_postfix": ") ",
     "delete_cmd_prefix": "rm(",
     "library": "var_list.r",
     "varRefreshCmd": "cat(var_dic_list()) "
    }
   },
   "types_to_exclude": [
    "module",
    "function",
    "builtin_function_or_method",
    "instance",
    "_Feature"
   ],
   "window_display": false
  }
 },
 "nbformat": 4,
 "nbformat_minor": 5
}
