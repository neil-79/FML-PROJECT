{
 "cells": [
  {
   "cell_type": "markdown",
   "id": "ed4a2533",
   "metadata": {},
   "source": [
    "# Histogram based Gradient Boosting"
   ]
  },
  {
   "cell_type": "markdown",
   "id": "0324feb5",
   "metadata": {},
   "source": [
    "## Import required libraries"
   ]
  },
  {
   "cell_type": "code",
   "execution_count": null,
   "id": "ea736709",
   "metadata": {
    "ExecuteTime": {
     "end_time": "2021-04-11T09:05:50.087169Z",
     "start_time": "2021-04-11T09:05:49.390556Z"
    }
   },
   "outputs": [],
   "source": [
    "from sklearn.experimental import enable_hist_gradient_boosting\n",
    "from sklearn.ensemble import HistGradientBoostingClassifier\n",
    "import pandas as pd\n",
    "from sklearn.model_selection import train_test_split\n",
    "import numpy as np\n",
    "from sklearn.metrics import accuracy_score\n",
    "from sklearn.metrics import confusion_matrix, classification_report"
   ]
  },
  {
   "cell_type": "markdown",
   "id": "6f9ea5ff",
   "metadata": {},
   "source": [
    "## Load dataset and discretize popularity"
   ]
  },
  {
   "cell_type": "code",
   "execution_count": null,
   "id": "38f2c596",
   "metadata": {
    "ExecuteTime": {
     "end_time": "2021-04-11T09:05:58.606873Z",
     "start_time": "2021-04-11T09:05:57.129767Z"
    }
   },
   "outputs": [],
   "source": [
    "df = pd.read_csv('../../Dataset/data_merged.csv')\n",
    "mean_popularity = 42\n",
    "df[\"popularity\"] = [ 1 if i >= mean_popularity else 0 for i in df.popularity ]\n",
    "df[\"popularity\"].head()"
   ]
  },
  {
   "cell_type": "markdown",
   "id": "0b7f75a4",
   "metadata": {},
   "source": [
    "## Split features, labels and train-test data"
   ]
  },
  {
   "cell_type": "code",
   "execution_count": null,
   "id": "25614900",
   "metadata": {
    "ExecuteTime": {
     "end_time": "2021-04-11T09:06:01.137681Z",
     "start_time": "2021-04-11T09:06:01.084080Z"
    }
   },
   "outputs": [],
   "source": [
    "X  = df.drop(['popularity'], axis=1)\n",
    "y = df['popularity']"
   ]
  },
  {
   "cell_type": "code",
   "execution_count": null,
   "id": "cd72806e",
   "metadata": {
    "ExecuteTime": {
     "end_time": "2021-04-11T09:08:35.875905Z",
     "start_time": "2021-04-11T09:08:35.738685Z"
    }
   },
   "outputs": [],
   "source": [
    "X_train, X_test, y_train, y_test = train_test_split(X, y, test_size=0.20, random_state=21)"
   ]
  },
  {
   "cell_type": "markdown",
   "id": "b14932e6",
   "metadata": {},
   "source": [
    "## Histogram based gradient-boosting"
   ]
  },
  {
   "cell_type": "code",
   "execution_count": null,
   "id": "593ddd16",
   "metadata": {},
   "outputs": [],
   "source": [
    "gb_clf = HistGradientBoostingClassifier(loss='binary_crossentropy', max_iter=1000)"
   ]
  },
  {
   "cell_type": "code",
   "execution_count": null,
   "id": "06d04968",
   "metadata": {},
   "outputs": [],
   "source": [
    "gb_clf.fit(X_train, y_train)"
   ]
  },
  {
   "cell_type": "code",
   "execution_count": null,
   "id": "9853da54",
   "metadata": {},
   "outputs": [],
   "source": [
    "gb_clf.score(X_train, y_train)"
   ]
  },
  {
   "cell_type": "code",
   "execution_count": null,
   "id": "a3367f56",
   "metadata": {},
   "outputs": [],
   "source": [
    "gb_clf.score(X_test, y_test)"
   ]
  },
  {
   "cell_type": "code",
   "execution_count": null,
   "id": "a4947376",
   "metadata": {},
   "outputs": [],
   "source": [
    "y_pred = gb_clf.predict(X_test)"
   ]
  },
  {
   "cell_type": "code",
   "execution_count": null,
   "id": "0c960c49",
   "metadata": {},
   "outputs": [],
   "source": [
    "print(confusion_matrix(y_test, y_pred))\n",
    "print(\"Classification report\\n\")\n",
    "print(classification_report(y_test, y_pred))"
   ]
  },
  {
   "cell_type": "markdown",
   "id": "26f7cdd5",
   "metadata": {},
   "source": [
    "## Bayesian Search"
   ]
  },
  {
   "cell_type": "code",
   "execution_count": null,
   "id": "d81f431f",
   "metadata": {
    "ExecuteTime": {
     "end_time": "2021-04-11T09:09:07.660727Z",
     "start_time": "2021-04-11T09:09:07.315021Z"
    }
   },
   "outputs": [],
   "source": [
    "from skopt import BayesSearchCV\n",
    "from skopt.space import Real, Categorical, Integer\n",
    "from skopt.plots import plot_objective\n",
    "from matplotlib import pyplot as plt"
   ]
  },
  {
   "cell_type": "code",
   "execution_count": null,
   "id": "971f27a0",
   "metadata": {
    "ExecuteTime": {
     "end_time": "2021-04-11T09:09:09.811124Z",
     "start_time": "2021-04-11T09:09:09.799996Z"
    }
   },
   "outputs": [],
   "source": [
    "opt = BayesSearchCV(\n",
    "    HistGradientBoostingClassifier(random_state=42),\n",
    "    {\n",
    "        'max_iter' : Integer(100, 200),\n",
    "        'learning_rate' : Real(0.01, 1),\n",
    "        'max_leaf_nodes' : Integer(10,100),\n",
    "        'min_samples_leaf' : Integer(10,100),\n",
    "#         'C': (1e-6, 1e+6, 'log-uniform'),\n",
    "#         'gamma': (1e-6, 1e+1, 'log-uniform'),\n",
    "#         'degree': (1, 8),  # integer valued parameter\n",
    "#         'kernel': ['linear', 'poly', 'rbf'],  # categorical parameter\n",
    "    },\n",
    "    n_iter=128,\n",
    "    cv=3\n",
    ")"
   ]
  },
  {
   "cell_type": "code",
   "execution_count": null,
   "id": "04e834ce",
   "metadata": {
    "ExecuteTime": {
     "start_time": "2021-04-11T09:10:57.858Z"
    }
   },
   "outputs": [],
   "source": [
    "opt.fit(X_train, y_train)\n",
    "\n",
    "from joblib import dump\n",
    "dump(opt, \"Saved models/GradBoost\")"
   ]
  },
  {
   "cell_type": "markdown",
   "id": "9adc073e",
   "metadata": {},
   "source": [
    "## Best parameters and scores obtained"
   ]
  },
  {
   "cell_type": "code",
   "execution_count": null,
   "id": "a58cb6e1",
   "metadata": {},
   "outputs": [],
   "source": [
    "print(\"val. score: %s\" % opt.best_score_)\n",
    "print(\"test score: %s\" % opt.score(X_test, y_test))\n",
    "print(\"best params: %s\" % str(opt.best_params_))"
   ]
  },
  {
   "cell_type": "code",
   "execution_count": null,
   "id": "5c8c2046",
   "metadata": {},
   "outputs": [],
   "source": [
    "y_pred = opt.predict(X_test)"
   ]
  },
  {
   "cell_type": "code",
   "execution_count": null,
   "id": "e4902d07",
   "metadata": {},
   "outputs": [],
   "source": [
    "print(confusion_matrix(y_test, y_pred))\n",
    "print(\"Classification report\\n\")\n",
    "print(classification_report(y_test, y_pred))"
   ]
  },
  {
   "cell_type": "markdown",
   "id": "ffc57b5b",
   "metadata": {},
   "source": [
    "On increasing number of iterations, max_leaf_nodes, min_samples_leaf etc., learning rate automatically goes down and results remain the same more or less."
   ]
  },
  {
   "cell_type": "markdown",
   "id": "dad3c717",
   "metadata": {},
   "source": [
    "## Visualize results with partial dependence plots"
   ]
  },
  {
   "cell_type": "code",
   "execution_count": null,
   "id": "1bf49fe1",
   "metadata": {},
   "outputs": [],
   "source": [
    "# plot_objective(opt.optimizer_results_[0],\n",
    "#                    dimensions=[\"n_estimators\", \"learning_rate\"],\n",
    "#                    n_minimum_search=int(1e8))"
   ]
  }
 ],
 "metadata": {
  "kernelspec": {
   "display_name": "Python 3",
   "language": "python",
   "name": "python3"
  },
  "language_info": {
   "codemirror_mode": {
    "name": "ipython",
    "version": 3
   },
   "file_extension": ".py",
   "mimetype": "text/x-python",
   "name": "python",
   "nbconvert_exporter": "python",
   "pygments_lexer": "ipython3",
   "version": "3.9.2"
  },
  "toc": {
   "base_numbering": 1,
   "nav_menu": {},
   "number_sections": true,
   "sideBar": true,
   "skip_h1_title": false,
   "title_cell": "Table of Contents",
   "title_sidebar": "Contents",
   "toc_cell": false,
   "toc_position": {},
   "toc_section_display": true,
   "toc_window_display": false
  },
  "varInspector": {
   "cols": {
    "lenName": 16,
    "lenType": 16,
    "lenVar": 40
   },
   "kernels_config": {
    "python": {
     "delete_cmd_postfix": "",
     "delete_cmd_prefix": "del ",
     "library": "var_list.py",
     "varRefreshCmd": "print(var_dic_list())"
    },
    "r": {
     "delete_cmd_postfix": ") ",
     "delete_cmd_prefix": "rm(",
     "library": "var_list.r",
     "varRefreshCmd": "cat(var_dic_list()) "
    }
   },
   "types_to_exclude": [
    "module",
    "function",
    "builtin_function_or_method",
    "instance",
    "_Feature"
   ],
   "window_display": false
  }
 },
 "nbformat": 4,
 "nbformat_minor": 5
}
